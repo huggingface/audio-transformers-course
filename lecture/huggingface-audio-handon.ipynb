{
 "cells": [
  {
   "cell_type": "markdown",
   "metadata": {},
   "source": [
    "<!-- @format -->\n",
    "\n",
    "# Hands-on exercise\n",
    "\n",
    "This exercise is not graded and is intended to help you become familiar with the\n",
    "tools and libraries that you will be using throughout the rest of the course. If\n",
    "you are already experienced in using Google Colab, 🤗 Datasets, librosa and 🤗\n",
    "Transformers, you may choose to skip this exercise.\n",
    "\n",
    "1. Create a [Google Colab](https://colab.research.google.com) notebook.\n",
    "2. Use 🤗 Datasets to load the train split of the\n",
    "   [`facebook/voxpopuli` dataset](https://huggingface.co/datasets/facebook/voxpopuli)\n",
    "   in language of your choice in streaming mode.\n",
    "3. Get the third example from the `train` part of the dataset and explore it.\n",
    "   Given the features that this example has, what kinds of audio tasks can you\n",
    "   use this dataset for?\n",
    "4. Plot this example's waveform and spectrogram.\n",
    "5. Go to [🤗 Hub](https://huggingface.co/models), explore pretrained models and\n",
    "   find one that can be used for automatic speech recognition for the language\n",
    "   that you have picked earlier. Instantiate a corresponding pipeline with the\n",
    "   model you found, and transcribe the example.\n",
    "6. Compare the transcription that you get from the pipeline to the transcription\n",
    "   provided in the example.\n",
    "\n",
    "If you struggle with this exercise, feel free to take a peek at an\n",
    "[example solution](https://colab.research.google.com/drive/1NGyo5wFpRj8TMfZOIuPaJHqyyXCITftc?usp=sharing).\n",
    "Discovered something interesting? Found a cool model? Got a beautiful\n",
    "spectrogram? Feel free to share your work and discoveries on Twitter!\n",
    "\n",
    "In the next chapters you'll learn more about various audio transformer\n",
    "architectures and will train your own model!\n"
   ]
  },
  {
   "cell_type": "code",
   "execution_count": null,
   "metadata": {},
   "outputs": [],
   "source": [
    "!pip install datasets[audio] librosa transformers\n"
   ]
  },
  {
   "cell_type": "code",
   "execution_count": null,
   "metadata": {},
   "outputs": [],
   "source": [
    "from datasets import load_dataset\n",
    "\n",
    "ds = load_dataset(\"facebook/voxpopuli\", name=\"en\", streaming=True)\n",
    "ds_head = ds[\"train\"].take(3)\n",
    "example = list(ds_head)[-1]\n",
    "example\n"
   ]
  },
  {
   "cell_type": "code",
   "execution_count": null,
   "metadata": {},
   "outputs": [],
   "source": [
    "from IPython.display import Audio\n",
    "\n",
    "Audio(example[\"audio\"][\"array\"], rate=16000)\n"
   ]
  },
  {
   "cell_type": "code",
   "execution_count": null,
   "metadata": {},
   "outputs": [],
   "source": [
    "import librosa\n",
    "import matplotlib.pyplot as plt\n",
    "import librosa.display\n",
    "\n",
    "array = example[\"audio\"][\"array\"]\n",
    "sampling_rate = example[\"audio\"][\"sampling_rate\"]\n",
    "plt.figure().set_figwidth(12)\n",
    "librosa.display.waveshow(array, sr=sampling_rate)\n"
   ]
  },
  {
   "cell_type": "code",
   "execution_count": null,
   "metadata": {},
   "outputs": [],
   "source": [
    "import numpy as np\n",
    "\n",
    "D = librosa.stft(array)\n",
    "S_db = librosa.amplitude_to_db(np.abs(D), ref=np.max)\n",
    "\n",
    "plt.figure().set_figwidth(12)\n",
    "librosa.display.specshow(S_db, x_axis=\"time\", y_axis=\"hz\")\n",
    "plt.colorbar()\n"
   ]
  },
  {
   "cell_type": "code",
   "execution_count": null,
   "metadata": {},
   "outputs": [],
   "source": [
    "from transformers import pipeline\n",
    "\n",
    "asr = pipeline(\n",
    "    \"automatic-speech-recognition\",\n",
    "    model=\"facebook/wav2vec2-large-xlsr-53-german\",\n",
    ")\n",
    "print(asr(example[\"audio\"][\"array\"]))\n",
    "print(example[\"raw_text\"])\n"
   ]
  },
  {
   "cell_type": "code",
   "execution_count": null,
   "metadata": {},
   "outputs": [],
   "source": [
    "from IPython.display import Audio\n",
    "\n",
    "Audio(example[\"audio\"][\"array\"], rate=16000)\n"
   ]
  }
 ],
 "metadata": {
  "language_info": {
   "name": "python"
  }
 },
 "nbformat": 4,
 "nbformat_minor": 2
}
